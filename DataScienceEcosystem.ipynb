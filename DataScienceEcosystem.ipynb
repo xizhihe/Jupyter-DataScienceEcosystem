{
 "cells": [
  {
   "cell_type": "markdown",
   "id": "5cd29ad5-1b65-4892-b7ae-47ee13a343d5",
   "metadata": {},
   "source": [
    "# H1：this is a level1 heading"
   ]
  },
  {
   "cell_type": "markdown",
   "id": "4f4e1df0-c9a7-4e56-a9a5-9a1d5f7b4893",
   "metadata": {},
   "source": [
    "In this notebook, Data Science Tools and Ecosystem are summarized.Jupyter Notebook is an open-source web application that enables users to create and share documents containing live code, equations, visualizations, and narrative text for data analysis and scientific computing."
   ]
  },
  {
   "cell_type": "markdown",
   "id": "cbbfe875-c8f9-4e4a-9b62-2fac564990e9",
   "metadata": {},
   "source": [
    "## Some of the popular languages that Data Scientists use are:\n",
    "| number | Data Scientists Languages |\n",
    "|--------|---------------------------|\n",
    "| 1 | Python |\n",
    "| 2 | Java |\n",
    "| 3 | Jupyter |\n",
    "| 4 | C++ |"
   ]
  },
  {
   "cell_type": "markdown",
   "id": "5dd17661-06c7-4e8d-b908-6d4bed9968f8",
   "metadata": {},
   "source": [
    "# Some of the commonly used libraries used by Data Scientists include:\n",
    "- **NumPy**: A library for the Python programming language, adding support for large, multi-dimensional arrays and matrices, along with a large collection of high-level mathematical functions to operate on these arrays.\n",
    "- **Pandas**: A software library written for the Python programming language for data manipulation and analysis. It offers data structures and operations for manipulating numerical tables and time series.\n",
    "- **Matplotlib**: A plotting library for the Python programming language and its numerical mathematics extension NumPy. It provides an object-oriented API for embedding plots into applications using general-purpose GUI toolkits like Tkinter, wxPython, Qt, or GTK.\n",
    "- **Scikit-learn**: A machine learning library for Python. It features various algorithms like support vector machines, random forests, and gradient boosting, including model selection and evaluation tools.\n",
    "- **TensorFlow**: An open-source software library for machine learning and artificial intelligence tasks. It can be used across a range of tasks but has a particular focus on training and inference of deep neural networks.\n",
    "- **Keras**: A high-level neural networks API, written in Python and capable of running on top of TensorFlow, CNTK, or Theano. It was developed with a focus on enabling fast experimentation.\n",
    "- **Seaborn**: A statistical data visualization library built on top of Matplotlib. It provides a high-level interface for drawing attractive and informative statistical graphics."
   ]
  },
  {
   "cell_type": "markdown",
   "id": "dc08e413-99eb-4605-98b3-d1d33d1d0fbe",
   "metadata": {},
   "source": [
    "# Data Science Tools\n",
    "1. **Jupyter Notebook**\n",
    "2. **Visual Studio Code**\n",
    "3. **PyCharm**"
   ]
  },
  {
   "cell_type": "markdown",
   "id": "3a8fded9-60fa-400a-adc9-3387f91e505f",
   "metadata": {},
   "source": [
    "### Below are a few examples of evaluating arithmetic expressions in Python\n",
    "Arithmetic expressions are combinations of numbers and operators that represent a calculation. Here are some examples:\n",
    "Addition:5+2=7"
   ]
  },
  {
   "cell_type": "code",
   "execution_count": 4,
   "id": "86cf3eea-0af8-4ac1-b3f4-e18dd1801c58",
   "metadata": {},
   "outputs": [
    {
     "name": "stdout",
     "output_type": "stream",
     "text": [
      "17\n"
     ]
    }
   ],
   "source": [
    "# This a simple arithmetic expression to mutiply then add integers\n",
    "result = (3 * 4) + 5\n",
    "print(result)"
   ]
  },
  {
   "cell_type": "code",
   "execution_count": 5,
   "id": "b43a8921-8924-4d1e-84fe-0210d8105479",
   "metadata": {},
   "outputs": [
    {
     "name": "stdout",
     "output_type": "stream",
     "text": [
      "3.3333333333333335\n"
     ]
    }
   ],
   "source": [
    "# This will convert 200 minutes to hours by diving by 60\n",
    "minutes = 200\n",
    "hours = minutes / 60\n",
    "print(hours)"
   ]
  },
  {
   "cell_type": "markdown",
   "id": "3c3ecbb4-d59d-4e98-8aea-7d0c7a30b13f",
   "metadata": {},
   "source": [
    "# Objectives:\n",
    "- Understand the basics of Python programming language.\n",
    "- Learn about data structures and algorithms in Python.\n",
    "- Explore popular libraries for data analysis and visualization.\n",
    "- Apply machine learning techniques to real-world datasets.\n",
    "- Work with Jupyter Notebooks for interactive coding and documentation."
   ]
  },
  {
   "cell_type": "markdown",
   "id": "b417f752-26b2-4278-9497-efc034665ed4",
   "metadata": {},
   "source": [
    "## self introduction\n",
    "Author name:徐子涵"
   ]
  },
  {
   "cell_type": "code",
   "execution_count": null,
   "id": "09535ab8-eb82-4ea4-b727-31464457b970",
   "metadata": {},
   "outputs": [],
   "source": []
  }
 ],
 "metadata": {
  "kernelspec": {
   "display_name": "Python 3 (ipykernel)",
   "language": "python",
   "name": "python3"
  },
  "language_info": {
   "codemirror_mode": {
    "name": "ipython",
    "version": 3
   },
   "file_extension": ".py",
   "mimetype": "text/x-python",
   "name": "python",
   "nbconvert_exporter": "python",
   "pygments_lexer": "ipython3",
   "version": "3.12.4"
  }
 },
 "nbformat": 4,
 "nbformat_minor": 5
}
